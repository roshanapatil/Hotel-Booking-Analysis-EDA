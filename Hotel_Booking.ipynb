{
  "nbformat": 4,
  "nbformat_minor": 0,
  "metadata": {
    "colab": {
      "private_outputs": true,
      "provenance": [],
      "collapsed_sections": [
        "mDgbUHAGgjLW",
        "gIfDvo9L0UH2"
      ],
      "include_colab_link": true
    },
    "kernelspec": {
      "name": "python3",
      "display_name": "Python 3"
    },
    "language_info": {
      "name": "python"
    }
  },
  "cells": [
    {
      "cell_type": "markdown",
      "metadata": {
        "id": "view-in-github",
        "colab_type": "text"
      },
      "source": [
        "<a href=\"https://colab.research.google.com/github/roshanapatil/Hotel-Booking-Analysis-EDA/blob/main/Hotel_Booking.ipynb\" target=\"_parent\"><img src=\"https://colab.research.google.com/assets/colab-badge.svg\" alt=\"Open In Colab\"/></a>"
      ]
    },
    {
      "cell_type": "markdown",
      "source": [
        "# **Project Name =  Hotel Booking Analysis**\n",
        "\n",
        "\n",
        "\n",
        "\n",
        "\n",
        "\n",
        "\n",
        "\n",
        "\n",
        "\n",
        "\n"
      ],
      "metadata": {
        "id": "vncDsAP0Gaoa"
      }
    },
    {
      "cell_type": "markdown",
      "source": [
        "##### **Project Type**    - EDA\n",
        "##### **Contribution**    - Individual\n",
        "##### **Team Member 1**   - Roshana Patil\n"
      ],
      "metadata": {
        "id": "beRrZCGUAJYm"
      }
    },
    {
      "cell_type": "markdown",
      "source": [
        "# **Project Summary -**"
      ],
      "metadata": {
        "id": "FJNUwmbgGyua"
      }
    },
    {
      "cell_type": "markdown",
      "source": [
        "Write the summary here within 500-600 words.\n",
        "\n",
        "\n",
        "\n",
        "\n",
        "Hotel industry is a very volatile industry and the bookings depend on variety of factors such as type of hotels, seasonality, days of week and many more. This makes analyzing the patterns\n",
        "available in the past data very important to help the hotels plan well. Using the historical data,\n",
        "hotels can perform various campaigns to boost the business.\n",
        "The data set contains booking information for a city hotel and a resort hotel, and includes\n",
        "information such as when the booking was made, the number of adults, children, and/or babies,\n",
        "and the number of available parking spaces, among other things. From it, we can understand\n",
        "the customer’s’ behavior and it might help us make better decisions.\n",
        "The process of our analysis will be by the following step: \n",
        "\n",
        "Understanding the Datasets\n",
        "\n",
        "Data preparation\n",
        "\n",
        "Data Cleaning\n",
        "\n",
        "Define our Business question\n",
        "\n",
        "Analyze the data \n",
        "\n",
        "Visualize the data\n",
        "\n",
        "conclusion.\n",
        "\n",
        "We have analyzed some key metrics for hotel bookings like :\n",
        "\n",
        "• The number of cancellations\n",
        "\n",
        "• Most preferred hotel\n",
        "\n",
        "• Busiest month of the hotel\n",
        "\n",
        "• Number of nights stays by guest on weekday vs. weekends\n",
        "\n",
        "• Highest bookings market segment\n",
        "\n",
        " In this project, we have analyzed the busiest or most occupied month by customers and\n",
        "we concluded that August is the busiest month which is having highest number of\n",
        "bookings and January has least no. of bookings. \n",
        "We have further analyzed that City\n",
        "hotel have more no. of cancelled bookings and having highest no. of bookings. Also,\n",
        "Online TA is the most preferred booking segment. \n",
        "We have tried using the data available to analyze the factors affecting the hotel bookings. \n",
        "These factors can be used for reporting the trends and predict the future bookings.\n",
        "\n"
      ],
      "metadata": {
        "id": "F6v_1wHtG2nS"
      }
    },
    {
      "cell_type": "markdown",
      "source": [
        "# **GitHub Link -**"
      ],
      "metadata": {
        "id": "w6K7xa23Elo4"
      }
    },
    {
      "cell_type": "markdown",
      "source": [
        "https://github.com/roshanapatil/Hotel-Booking-Analysis-EDA\n"
      ],
      "metadata": {
        "id": "h1o69JH3Eqqn"
      }
    },
    {
      "cell_type": "markdown",
      "source": [
        "# **Problem Statement**\n"
      ],
      "metadata": {
        "id": "yQaldy8SH6Dl"
      }
    },
    {
      "cell_type": "markdown",
      "source": [
        "Have you ever wondered when the best time of year to book a hotel room is? Or the optimal length of stay in order to get the best daily rate? What if you wanted to predict whether or not a hotel was likely to receive a disproportionately high number of special requests? This hotel booking dataset can help you explore those questions!\n",
        "This data set contains booking information for a city hotel and a resort hotel, and includes information such as when the booking was made, length of stay, the number of adults, children, and/or babies, and the number of available parking spaces, among other things. All personally identifying information has been removed from the data.\n",
        "Explore and analyze the data to discover important factors that govern the bookings."
      ],
      "metadata": {
        "id": "DpeJGUA3kjGy"
      }
    },
    {
      "cell_type": "markdown",
      "source": [
        "#### **Define Your Business Objective?**"
      ],
      "metadata": {
        "id": "PH-0ReGfmX4f"
      }
    },
    {
      "cell_type": "markdown",
      "source": [
        "1) Online hotel reservation systems:\n",
        "\n",
        "The primary objective of online hotel reservation systems is to provide customers with a convenient and efficient way to book their accommodations.\n",
        "Provide people seeking hotel rooms with accurate information about available accommodations.\n",
        "\n",
        "2)Room:\n",
        "This includes providing an easy-to-use interface, secure payment processing, and access to up-to-date information about available rooms.\n",
        "Allow booking of rooms without errors and without creating conflicts\n",
        "\n",
        "Additionally, these systems should be able to quickly process reservations so that customers can get the room they need in a timely manner.\n",
        "\n",
        "Overall, it appears that these objectives are being met by most online hotel reservation systems today.\n",
        "\n",
        "3) Hotel Booking:\n",
        "Customers have access to detailed information about each property before making their booking decision and can easily complete the transaction without any issues or delays.\n",
        "\n"
      ],
      "metadata": {
        "id": "PhDvGCAqmjP1"
      }
    },
    {
      "cell_type": "markdown",
      "source": [
        "# **General Guidelines** : -  "
      ],
      "metadata": {
        "id": "mDgbUHAGgjLW"
      }
    },
    {
      "cell_type": "markdown",
      "source": [
        "1.   Well-structured, formatted, and commented code is required. \n",
        "2.   Exception Handling, Production Grade Code & Deployment Ready Code will be a plus. Those students will be awarded some additional credits. \n",
        "     \n",
        "     The additional credits will have advantages over other students during Star Student selection.\n",
        "       \n",
        "             [ Note: - Deployment Ready Code is defined as, the whole .ipynb notebook should be executable in one go\n",
        "                       without a single error logged. ]\n",
        "\n",
        "3.   Each and every logic should have proper comments.\n",
        "4. You may add as many number of charts you want. Make Sure for each and every chart the following format should be answered.\n",
        "        \n",
        "\n",
        "```\n",
        "# Chart visualization code\n",
        "```\n",
        "            \n",
        "\n",
        "*   Why did you pick the specific chart?\n",
        "*   What is/are the insight(s) found from the chart?\n",
        "* Will the gained insights help creating a positive business impact? \n",
        "Are there any insights that lead to negative growth? Justify with specific reason.\n",
        "\n",
        "5. You have to create at least 20 logical & meaningful charts having important insights.\n",
        "\n",
        "\n",
        "[ Hints : - Do the Vizualization in  a structured way while following \"UBM\" Rule. \n",
        "\n",
        "U - Univariate Analysis,\n",
        "\n",
        "B - Bivariate Analysis (Numerical - Categorical, Numerical - Numerical, Categorical - Categorical)\n",
        "\n",
        "M - Multivariate Analysis\n",
        " ]\n",
        "\n",
        "\n",
        "\n"
      ],
      "metadata": {
        "id": "ZrxVaUj-hHfC"
      }
    },
    {
      "cell_type": "markdown",
      "source": [
        "# ***Let's Begin !***"
      ],
      "metadata": {
        "id": "O_i_v8NEhb9l"
      }
    },
    {
      "cell_type": "markdown",
      "source": [
        "## ***1. Know Your Data***"
      ],
      "metadata": {
        "id": "HhfV-JJviCcP"
      }
    },
    {
      "cell_type": "markdown",
      "source": [
        "### Import Libraries"
      ],
      "metadata": {
        "id": "Y3lxredqlCYt"
      }
    },
    {
      "cell_type": "code",
      "source": [
        "# Importing all import python libaries \n",
        "import numpy as np\n",
        "import pandas as pd\n",
        "import matplotlib\n",
        "import matplotlib.pyplot as plt\n",
        "import seaborn as sns\n",
        "import folium\n",
        "import plotly.express as px\n",
        "%matplotlib inline"
      ],
      "metadata": {
        "id": "M8Vqi-pPk-HR"
      },
      "execution_count": null,
      "outputs": []
    },
    {
      "cell_type": "markdown",
      "source": [
        "### Dataset Loading"
      ],
      "metadata": {
        "id": "3RnN4peoiCZX"
      }
    },
    {
      "cell_type": "code",
      "source": [
        "# Load Dataset\n",
        "url='''https://raw.githubusercontent.com/roshanapatil/Hotel-Booking-Analysis-EDA/main/Hotel%20Bookings.csv'''\n",
        "hotel_df=pd.read_csv(url)"
      ],
      "metadata": {
        "id": "4CkvbW_SlZ_R"
      },
      "execution_count": null,
      "outputs": []
    },
    {
      "cell_type": "markdown",
      "source": [
        "### Dataset First View"
      ],
      "metadata": {
        "id": "x71ZqKXriCWQ"
      }
    },
    {
      "cell_type": "code",
      "source": [
        "# Dataset First Look\n",
        "hotel_df.head()"
      ],
      "metadata": {
        "id": "LWNFOSvLl09H"
      },
      "execution_count": null,
      "outputs": []
    },
    {
      "cell_type": "markdown",
      "source": [
        "### Dataset Rows & Columns count"
      ],
      "metadata": {
        "id": "7hBIi_osiCS2"
      }
    },
    {
      "cell_type": "code",
      "source": [
        "# Dataset Rows & Columns count\n",
        "hotel_df.shape"
      ],
      "metadata": {
        "id": "Kllu7SJgmLij"
      },
      "execution_count": null,
      "outputs": []
    },
    {
      "cell_type": "markdown",
      "source": [
        "### Dataset Information"
      ],
      "metadata": {
        "id": "JlHwYmJAmNHm"
      }
    },
    {
      "cell_type": "code",
      "source": [
        "# Dataset Info\n",
        "hotel_df.info()"
      ],
      "metadata": {
        "id": "e9hRXRi6meOf"
      },
      "execution_count": null,
      "outputs": []
    },
    {
      "cell_type": "markdown",
      "source": [
        "#### Duplicate Values"
      ],
      "metadata": {
        "id": "35m5QtbWiB9F"
      }
    },
    {
      "cell_type": "code",
      "source": [
        "# Dataset Duplicate Value Count\n",
        "hotel_df.duplicated().sum()"
      ],
      "metadata": {
        "id": "1sLdpKYkmox0"
      },
      "execution_count": null,
      "outputs": []
    },
    {
      "cell_type": "markdown",
      "source": [
        "#### Missing Values/Null Values"
      ],
      "metadata": {
        "id": "PoPl-ycgm1ru"
      }
    },
    {
      "cell_type": "code",
      "source": [
        "# Missing Values/Null Values Count\n",
        "hotel_df.isnull().sum()"
      ],
      "metadata": {
        "id": "GgHWkxvamxVg"
      },
      "execution_count": null,
      "outputs": []
    },
    {
      "cell_type": "code",
      "source": [
        "hotel_df.hotel.value_counts()"
      ],
      "metadata": {
        "id": "wHAodGgA9qAS"
      },
      "execution_count": null,
      "outputs": []
    },
    {
      "cell_type": "code",
      "source": [
        "# Visualizing the missing values\n",
        "# Checking Null Value by plotting Heatmap\n",
        "sns.heatmap(hotel_df.isnull(), cbar=True)"
      ],
      "metadata": {
        "id": "3q5wnI3om9sJ"
      },
      "execution_count": null,
      "outputs": []
    },
    {
      "cell_type": "markdown",
      "source": [
        "### What did you know about your dataset?"
      ],
      "metadata": {
        "id": "H0kj-8xxnORC"
      }
    },
    {
      "cell_type": "markdown",
      "source": [
        "\n",
        "\n",
        "The dataset given is a dataset from Hotel industry, and we have to analysis the Hotel booking analysis of customers and the insights behind it.\n",
        "\n",
        "There are 31994 duplicate values present in  the datasets. \n",
        "\n",
        "The above dataset has 119390 rows and 32 columns. It contains null values in total four features viz. children,country,agent,company."
      ],
      "metadata": {
        "id": "gfoNAAC-nUe_"
      }
    },
    {
      "cell_type": "markdown",
      "source": [
        "## ***2. Understanding Your Variables***"
      ],
      "metadata": {
        "id": "nA9Y7ga8ng1Z"
      }
    },
    {
      "cell_type": "code",
      "source": [
        "# Dataset Columns\n",
        "hotel_df.columns"
      ],
      "metadata": {
        "id": "j7xfkqrt5Ag5"
      },
      "execution_count": null,
      "outputs": []
    },
    {
      "cell_type": "markdown",
      "source": [
        "We see that there are 32 columns in the dataframe and some columns like 'children', 'company', 'country' and 'agent' have null values."
      ],
      "metadata": {
        "id": "tcDQXGULt_h7"
      }
    },
    {
      "cell_type": "code",
      "source": [
        "# Dataset Describe\n",
        "hotel_df.describe()"
      ],
      "metadata": {
        "id": "DnOaZdaE5Q5t"
      },
      "execution_count": null,
      "outputs": []
    },
    {
      "cell_type": "markdown",
      "source": [
        "### Variables Description "
      ],
      "metadata": {
        "id": "PBTbrJXOngz2"
      }
    },
    {
      "cell_type": "markdown",
      "source": [
        "hotel ----> City hotel and Resort hotel\n",
        "\n",
        "is_canceled \n",
        "\n",
        "lead_time \n",
        "\n",
        "arrival_date_year\n",
        "\n",
        "arrival_date_month\n",
        "\n",
        "arrival_date_week_number\n",
        "\n",
        "arrival_date_day_of_month\n",
        "\n",
        "stays_in_weekend_nights----->Number of stays on weekend nights\n",
        "\n",
        "stays_in_week_nights-------->Number of stays on week nights\n",
        "\n",
        "adults\n",
        "\n",
        "children\n",
        "\n",
        "babies\n",
        "\n",
        "meal ---> meal provided to the guests.4 types: SC(Self Catering) , HB(Half Board) , FB(Full Board) , BB(Bed & Breakfast).\n",
        "\n",
        "country ----> It contains the country of the origin of the customer.\n",
        "\n",
        "market_segment ----> Contains the market segment customer belongs to.\n",
        "\n",
        "distribution_channel ----> distribution channel used to make the bookings.\n",
        "\n",
        "is_repeated_guest\n",
        "\n",
        "previous_cancellations\n",
        "\n",
        "previous_bookings_not_canceled\n",
        "\n",
        "reserved_room_type\n",
        "\n",
        "assigned_room_type\n",
        "\n",
        "booking_changes\n",
        "\n",
        "deposit_type\n",
        "\n",
        "agent\n",
        "\n",
        "company\n",
        "\n",
        "days_in_waiting_list \n",
        "\n",
        "customer_type\n",
        "\n",
        "adr \n",
        "\n",
        "required_car_parking_spaces\n",
        "\n",
        "total_of_special_requests \n",
        "\n",
        "reservation_status\n",
        "\n",
        "reservation_status_date"
      ],
      "metadata": {
        "id": "aJV4KIxSnxay"
      }
    },
    {
      "cell_type": "markdown",
      "source": [
        "### Check Unique Values for each variable."
      ],
      "metadata": {
        "id": "u3PMJOP6ngxN"
      }
    },
    {
      "cell_type": "code",
      "source": [
        "# Check Unique Values for each variable.\n",
        "for i in hotel_df.columns.tolist():\n",
        "  print(\"No. of unique values in \",i,\"is\",hotel_df[i].unique(),\".\")"
      ],
      "metadata": {
        "id": "zms12Yq5n-jE"
      },
      "execution_count": null,
      "outputs": []
    },
    {
      "cell_type": "markdown",
      "source": [
        "## 3. ***Data Wrangling***"
      ],
      "metadata": {
        "id": "dauF4eBmngu3"
      }
    },
    {
      "cell_type": "markdown",
      "source": [
        "### Data Wrangling Code"
      ],
      "metadata": {
        "id": "bKJF3rekwFvQ"
      }
    },
    {
      "cell_type": "markdown",
      "source": [
        "# Data Cleaning"
      ],
      "metadata": {
        "id": "iTQ7EGjjKKVH"
      }
    },
    {
      "cell_type": "code",
      "source": [
        "# Write your code to make your dataset analysis ready.\n",
        "#Replacing NUll value with zero for convinience\n",
        "\n",
        "hotel_df.fillna(0, inplace=True)"
      ],
      "metadata": {
        "id": "wk-9a2fpoLcV"
      },
      "execution_count": null,
      "outputs": []
    },
    {
      "cell_type": "code",
      "source": [
        "# checking for null value\n",
        "hotel_df.isnull().sum()"
      ],
      "metadata": {
        "id": "OuKFvlnoKarD"
      },
      "execution_count": null,
      "outputs": []
    },
    {
      "cell_type": "markdown",
      "source": [
        " we can see there is no null value in hotel Dataframe"
      ],
      "metadata": {
        "id": "i3aiwInEKkOE"
      }
    },
    {
      "cell_type": "code",
      "source": [
        "#checking value of children\n",
        "hotel_df['children'].unique()"
      ],
      "metadata": {
        "id": "XYxL50goKvzY"
      },
      "execution_count": null,
      "outputs": []
    },
    {
      "cell_type": "code",
      "source": [
        "#checking value of adults\n",
        "hotel_df['adults'].unique()    "
      ],
      "metadata": {
        "id": "V-Yr4175uOHw"
      },
      "execution_count": null,
      "outputs": []
    },
    {
      "cell_type": "code",
      "source": [
        "#checking value of babies\n",
        "hotel_df['babies'].unique()"
      ],
      "metadata": {
        "id": "XIFk2NjiLR8i"
      },
      "execution_count": null,
      "outputs": []
    },
    {
      "cell_type": "markdown",
      "source": [
        "From above data we can see that children, babies, adults can,t be zero at a time.\n",
        "\n",
        "so now we are going to filter data where value of adults, children and babies = 0\n"
      ],
      "metadata": {
        "id": "dAG6AHOzLb9O"
      }
    },
    {
      "cell_type": "code",
      "source": [
        "checking_value_0_of_ad_ch_baby = (hotel_df['adults']==0) & (hotel_df['children']==0) & (hotel_df['babies']==0)\n",
        "# reading data frame where adult,children and babies are 0\n",
        "hotel_df[checking_value_0_of_ad_ch_baby]\n"
      ],
      "metadata": {
        "id": "o77QZueeMig_"
      },
      "execution_count": null,
      "outputs": []
    },
    {
      "cell_type": "markdown",
      "source": [
        "we know adult, children and babies can't be zero at a time that means these are error of recording data so we have to remove this data\n"
      ],
      "metadata": {
        "id": "LMpdJtIsPkhx"
      }
    },
    {
      "cell_type": "code",
      "source": [
        "#reading and storing data where adults,children and babies are having non 0 value \n",
        "\n",
        "Data=hotel_df[~checking_value_0_of_ad_ch_baby]"
      ],
      "metadata": {
        "id": "X5zKUJ0QvEoe"
      },
      "execution_count": null,
      "outputs": []
    },
    {
      "cell_type": "code",
      "source": [
        "# reading hotel_df dataframe\n",
        "Data"
      ],
      "metadata": {
        "id": "9RvYabd5vEWy"
      },
      "execution_count": null,
      "outputs": []
    },
    {
      "cell_type": "markdown",
      "source": [
        "### What all manipulations have you done and insights you found?"
      ],
      "metadata": {
        "id": "MSa1f5Uengrz"
      }
    },
    {
      "cell_type": "markdown",
      "source": [
        "\n",
        "First we replace the 'Nan' value with zero then  we can see that  above data children, babies, adults can,t be zero at a time.\n",
        "\n",
        "so now we are going to filter data where value of adults, children and babies = 0 but children, babies, adults can,t be zero at a time that means these are error of recording data so we have to remove this data\n",
        "\n"
      ],
      "metadata": {
        "id": "LbyXE7I1olp8"
      }
    },
    {
      "cell_type": "markdown",
      "source": [
        "## ***4. Data Vizualization, Storytelling & Experimenting with charts : Understand the relationships between variables***"
      ],
      "metadata": {
        "id": "GF8Ens_Soomf"
      }
    },
    {
      "cell_type": "markdown",
      "source": [
        "#### Chart - 1"
      ],
      "metadata": {
        "id": "0wOQAZs5pc--"
      }
    },
    {
      "cell_type": "markdown",
      "source": [
        "**what is the count of each type of Hotels ?**\n"
      ],
      "metadata": {
        "id": "VBSjwPZbYupW"
      }
    },
    {
      "cell_type": "code",
      "source": [
        "hotel_list = Data['hotel'].value_counts()\n",
        "hotel_count = Data['hotel'].value_counts().index"
      ],
      "metadata": {
        "id": "ANs5gQMoY7t2"
      },
      "execution_count": null,
      "outputs": []
    },
    {
      "cell_type": "code",
      "source": [
        "# creating the bar graph \n",
        "plt.figure(figsize = (5, 5))\n",
        "plt.bar(hotel_count, hotel_list, color =['skyblue','pink'],width = 0.4)\n",
        "plt.xlabel(\"Hotel Type\")\n",
        "plt.ylabel(\"count\")\n",
        "#showing graph\n",
        "plt.show()"
      ],
      "metadata": {
        "id": "0p75Aan3xx0a"
      },
      "execution_count": null,
      "outputs": []
    },
    {
      "cell_type": "markdown",
      "source": [
        "##### 1. Why did you pick the specific chart?"
      ],
      "metadata": {
        "id": "K5QZ13OEpz2H"
      }
    },
    {
      "cell_type": "markdown",
      "source": [
        "To check the count of pepole comes to the hotels"
      ],
      "metadata": {
        "id": "XESiWehPqBRc"
      }
    },
    {
      "cell_type": "markdown",
      "source": [
        "##### 2. What is/are the insight(s) found from the chart?"
      ],
      "metadata": {
        "id": "lQ7QKXXCp7Bj"
      }
    },
    {
      "cell_type": "markdown",
      "source": [
        "1.City Hotel and 2. Resort Hotel having count 79000 and 40000 approx respectively\n",
        "\n"
      ],
      "metadata": {
        "id": "C_j1G7yiqdRP"
      }
    },
    {
      "cell_type": "markdown",
      "source": [
        "##### 3. Will the gained insights help creating a positive business impact? \n",
        "Are there any insights that lead to negative growth? Justify with specific reason."
      ],
      "metadata": {
        "id": "52YGwcmZh4KN"
      }
    },
    {
      "cell_type": "markdown",
      "source": [
        "Answer Here"
      ],
      "metadata": {
        "id": "l_wK8wMIjKG9"
      }
    },
    {
      "cell_type": "markdown",
      "source": [
        "#### Chart-2"
      ],
      "metadata": {
        "id": "lkDvXfx1i0Ph"
      }
    },
    {
      "cell_type": "markdown",
      "source": [
        "**where the most guests are coming ?**"
      ],
      "metadata": {
        "id": "BFn_Q3bPhk0z"
      }
    },
    {
      "cell_type": "code",
      "source": [
        "#taking Top 10 country to analyze the largest number guest comes from\n",
        "\n",
        "country_wise_guests = Data[Data['is_canceled']==0]['country'].value_counts()[:10]\n",
        "country_wise_guests"
      ],
      "metadata": {
        "id": "dzeD_VxjgXYi"
      },
      "execution_count": null,
      "outputs": []
    },
    {
      "cell_type": "code",
      "source": [
        "#renaming the index\n",
        "country_wise_guests = country_wise_guests.reset_index().rename(columns = {'index':'country','country':'number_of_bookings'})\n",
        "\n",
        "#adding percentage column\n",
        "country_wise_guests['percentage'] = (country_wise_guests['number_of_bookings']/country_wise_guests['number_of_bookings'].sum())*100"
      ],
      "metadata": {
        "id": "rGX2UNoMgrII"
      },
      "execution_count": null,
      "outputs": []
    },
    {
      "cell_type": "code",
      "source": [
        "country_wise_guests"
      ],
      "metadata": {
        "id": "DhgWVC14hBBG"
      },
      "execution_count": null,
      "outputs": []
    },
    {
      "cell_type": "code",
      "source": [
        "# Chart - 2 visualization code\n",
        "plt.figure(figsize=(10,10))\n",
        "sns.barplot(x=\"country\", y=\"percentage\", data=country_wise_guests).set(title='Percentage of guest per country')\n",
        "plt.show()"
      ],
      "metadata": {
        "id": "R4YgtaqtYklH"
      },
      "execution_count": null,
      "outputs": []
    },
    {
      "cell_type": "markdown",
      "source": [
        "##### 1. Why did you pick the specific chart?"
      ],
      "metadata": {
        "id": "t6dVpIINYklI"
      }
    },
    {
      "cell_type": "markdown",
      "source": [
        "To check the where the most guests are coming ?\n",
        "\n"
      ],
      "metadata": {
        "id": "5aaW0BYyYklI"
      }
    },
    {
      "cell_type": "markdown",
      "source": [
        "##### 2. What is/are the insight(s) found from the chart?"
      ],
      "metadata": {
        "id": "ijmpgYnKYklI"
      }
    },
    {
      "cell_type": "markdown",
      "source": [
        "\n",
        "Most of the customers come and visit from Portugal, Great Britain, France and Spain. \n",
        "\n"
      ],
      "metadata": {
        "id": "PSx9atu2YklI"
      }
    },
    {
      "cell_type": "markdown",
      "source": [
        "##### 3. Will the gained insights help creating a positive business impact? \n",
        "Are there any insights that lead to negative growth? Justify with specific reason."
      ],
      "metadata": {
        "id": "4WQWA4jrjDWN"
      }
    },
    {
      "cell_type": "markdown",
      "source": [
        "Answer Here\n"
      ],
      "metadata": {
        "id": "z_jI9flXjFTo"
      }
    },
    {
      "cell_type": "markdown",
      "source": [
        "#### Chart - 3"
      ],
      "metadata": {
        "id": "EM7whBJCYoAo"
      }
    },
    {
      "cell_type": "markdown",
      "source": [
        "**Booking and cancelation per market segment?**"
      ],
      "metadata": {
        "id": "aTzsSI1ajY1G"
      }
    },
    {
      "cell_type": "code",
      "source": [
        "# use value_counts to check which market segment have highest bookings\n",
        "Data['market_segment'].value_counts(normalize=True)"
      ],
      "metadata": {
        "id": "gTJdopxilMm5"
      },
      "execution_count": null,
      "outputs": []
    },
    {
      "cell_type": "code",
      "source": [
        "# Chart - 3 visualization code\n",
        "plt.figure(figsize=(18,10))\n",
        "plt.subplot(2,1,1)\n",
        "sns.countplot(data=Data,x='deposit_type',hue='market_segment')\n",
        "plt.title('Deposit Type for Market Segment')\n",
        "\n",
        "plt.subplot(2,1,2)\n",
        "sns.countplot(data=Data,x='is_canceled',hue='market_segment')\n",
        "plt.title('Cancellation for Market Segment')\n",
        "plt.show()"
      ],
      "metadata": {
        "id": "t6GMdE67YoAp"
      },
      "execution_count": null,
      "outputs": []
    },
    {
      "cell_type": "markdown",
      "source": [
        "##### 1. Why did you pick the specific chart?"
      ],
      "metadata": {
        "id": "fge-S5ZAYoAp"
      }
    },
    {
      "cell_type": "markdown",
      "source": [
        "To check the deposit types for market segment and  cacellation for market segment."
      ],
      "metadata": {
        "id": "5dBItgRVYoAp"
      }
    },
    {
      "cell_type": "markdown",
      "source": [
        "##### 2. What is/are the insight(s) found from the chart?"
      ],
      "metadata": {
        "id": "85gYPyotYoAp"
      }
    },
    {
      "cell_type": "markdown",
      "source": [
        "\n",
        "Graph 1 Shows  that most the bookings are done through Online TA segment.\n",
        "\n",
        "Graph 2 Shows that most cancelation is  done through online TA segment only.\n",
        "\n",
        "\n"
      ],
      "metadata": {
        "id": "4jstXR6OYoAp"
      }
    },
    {
      "cell_type": "markdown",
      "source": [
        "##### 3. Will the gained insights help creating a positive business impact? \n",
        "Are there any insights that lead to negative growth? Justify with specific reason."
      ],
      "metadata": {
        "id": "PbDGpKqHju-z"
      }
    },
    {
      "cell_type": "markdown",
      "source": [
        "Answer Here"
      ],
      "metadata": {
        "id": "v5mkc0r1jw4a"
      }
    },
    {
      "cell_type": "markdown",
      "source": [
        "#### Chart - 4\n"
      ],
      "metadata": {
        "id": "4Of9eVA-YrdM"
      }
    },
    {
      "cell_type": "markdown",
      "source": [
        "**Which meal type is most preffered meal of customers?**\n",
        "\n",
        "\n",
        "\n"
      ],
      "metadata": {
        "id": "JQbbqOlOyPbY"
      }
    },
    {
      "cell_type": "code",
      "source": [
        "# Chart - 4 visualization code\n",
        "plt.figure( figsize=(10, 8))\n",
        "\n",
        "sns.countplot(x = Data['meal'])\n",
        "plt.show\n"
      ],
      "metadata": {
        "id": "irlUoxc8YrdO"
      },
      "execution_count": null,
      "outputs": []
    },
    {
      "cell_type": "markdown",
      "source": [
        "We Can Notice that most preferred meal type is BB (Bed and breakfast) for meal customers."
      ],
      "metadata": {
        "id": "ye600THGzohc"
      }
    },
    {
      "cell_type": "markdown",
      "source": [
        "##### 1. Why did you pick the specific chart?"
      ],
      "metadata": {
        "id": "iky9q4vBYrdO"
      }
    },
    {
      "cell_type": "markdown",
      "source": [
        "To check the Which meal type is most preffered meal of customers\n"
      ],
      "metadata": {
        "id": "aJRCwT6DYrdO"
      }
    },
    {
      "cell_type": "markdown",
      "source": [
        "##### 2. What is/are the insight(s) found from the chart?"
      ],
      "metadata": {
        "id": "F6T5p64dYrdO"
      }
    },
    {
      "cell_type": "markdown",
      "source": [
        "We Can Notice that most preferred meal type is BB (Bed and breakfast) for meal customers.\n",
        "\n"
      ],
      "metadata": {
        "id": "Xx8WAJvtYrdO"
      }
    },
    {
      "cell_type": "markdown",
      "source": [
        "##### 3. Will the gained insights help creating a positive business impact? \n",
        "Are there any insights that lead to negative growth? Justify with specific reason."
      ],
      "metadata": {
        "id": "bC8gNasVj2bm"
      }
    },
    {
      "cell_type": "markdown",
      "source": [
        "Answer Here"
      ],
      "metadata": {
        "id": "zoUPVwSWj4C4"
      }
    },
    {
      "cell_type": "markdown",
      "source": [
        "#### Chart - 5"
      ],
      "metadata": {
        "id": "bamQiAODYuh1"
      }
    },
    {
      "cell_type": "markdown",
      "source": [
        "**Total number of bookings for both hotels?**\n",
        "\n"
      ],
      "metadata": {
        "id": "ORWmOfxp0Mc2"
      }
    },
    {
      "cell_type": "code",
      "source": [
        "#  total booking counts for each hotel\n",
        "Data['hotel'].value_counts(normalize=True)"
      ],
      "metadata": {
        "id": "yorAe1ek6AjO"
      },
      "execution_count": null,
      "outputs": []
    },
    {
      "cell_type": "code",
      "source": [
        "# Chart - 5 visualization code\n",
        "#  creating the bar plot\n",
        "#  use \"value_counts()\" method on \"hotel\" column to find total bookings\n",
        "#  using plot() method having (kind=\"bar\") as parameter to plot (bar graph)\n",
        "\n",
        "Data.hotel.value_counts().sort_values().plot(kind = 'bar')\n",
        "plt.xlabel(\"Hotel\" , weight=\"bold\")  #  label at x-axix\n",
        "plt.ylabel(\"Total bookings\" , weight=\"bold\")  #  label at y-axis\n",
        "plt.title(\"Total booking for both hotels\")  #  title to reperesent graph significance\n",
        "\n",
        "#  to show a graph.It is necessary when you are using Matplotlib in terminal and optional when you are using notebook\n",
        "plt.show()\n"
      ],
      "metadata": {
        "id": "kuRf4wtuphqN"
      },
      "execution_count": null,
      "outputs": []
    },
    {
      "cell_type": "markdown",
      "source": [
        "##### 1. Why did you pick the specific chart?"
      ],
      "metadata": {
        "id": "QHF8YVU7Yuh3"
      }
    },
    {
      "cell_type": "markdown",
      "source": [
        "To check the total number of bookings for both hotels\n",
        "\n",
        "\n"
      ],
      "metadata": {
        "id": "dcxuIMRPYuh3"
      }
    },
    {
      "cell_type": "markdown",
      "source": [
        "##### 2. What is/are the insight(s) found from the chart?"
      ],
      "metadata": {
        "id": "GwzvFGzlYuh3"
      }
    },
    {
      "cell_type": "markdown",
      "source": [
        "It has been clearly seen from the above graph that City Hotel have highest bookings.\n",
        "It is preferred by most of the customers.\n",
        "We can also say that City Hotel have been liked by most of the customers."
      ],
      "metadata": {
        "id": "uyqkiB8YYuh3"
      }
    },
    {
      "cell_type": "markdown",
      "source": [
        "##### 3. Will the gained insights help creating a positive business impact? \n",
        "Are there any insights that lead to negative growth? Justify with specific reason."
      ],
      "metadata": {
        "id": "0JZhBb6hj8tT"
      }
    },
    {
      "cell_type": "markdown",
      "source": [
        "Answer Here"
      ],
      "metadata": {
        "id": "h51k4brhj-iv"
      }
    },
    {
      "cell_type": "markdown",
      "source": [
        "#### Chart - 6"
      ],
      "metadata": {
        "id": "OH-pJp9IphqM"
      }
    },
    {
      "cell_type": "markdown",
      "source": [
        "**Which hotel type has highest number of booking cancellation?**"
      ],
      "metadata": {
        "id": "x5StfeAHyQwI"
      }
    },
    {
      "cell_type": "code",
      "source": [
        "# Chart - 6 visualization \n",
        "canceled_room=Data[Data['is_canceled']==1]\n",
        "sns.countplot(data=canceled_room,x='is_canceled', hue='hotel', palette='bright').set_title('Number of canceled Bookings')\n",
        "plt.show()"
      ],
      "metadata": {
        "id": "TIJwrbroYuh3"
      },
      "execution_count": null,
      "outputs": []
    },
    {
      "cell_type": "markdown",
      "source": [
        "As per graph we can see that the city hotel has more number of cancellation"
      ],
      "metadata": {
        "id": "POMLfvSU6ya5"
      }
    },
    {
      "cell_type": "markdown",
      "source": [
        "##### 1. Why did you pick the specific chart?"
      ],
      "metadata": {
        "id": "bbFf2-_FphqN"
      }
    },
    {
      "cell_type": "markdown",
      "source": [
        "To check the  highest number of cancellation\n",
        "\n",
        "\n",
        "\n"
      ],
      "metadata": {
        "id": "loh7H2nzphqN"
      }
    },
    {
      "cell_type": "markdown",
      "source": [
        "##### 2. What is/are the insight(s) found from the chart?"
      ],
      "metadata": {
        "id": "_ouA3fa0phqN"
      }
    },
    {
      "cell_type": "markdown",
      "source": [
        "From above vizual we can see that city hotel has more number of cancellation compared to Resort hotel"
      ],
      "metadata": {
        "id": "VECbqPI7phqN"
      }
    },
    {
      "cell_type": "markdown",
      "source": [
        "##### 3. Will the gained insights help creating a positive business impact? \n",
        "Are there any insights that lead to negative growth? Justify with specific reason."
      ],
      "metadata": {
        "id": "HqtUG9bqkCym"
      }
    },
    {
      "cell_type": "markdown",
      "source": [
        "Answer Here"
      ],
      "metadata": {
        "id": "DW4_bGpfphqN"
      }
    },
    {
      "cell_type": "markdown",
      "source": [
        "Chart - 7"
      ],
      "metadata": {
        "id": "PIIx-8_IphqN"
      }
    },
    {
      "cell_type": "markdown",
      "source": [
        "**How long saty guest at hotel on weekdays?**"
      ],
      "metadata": {
        "id": "OGu2FZLU0gtR"
      }
    },
    {
      "cell_type": "code",
      "source": [
        "# Chart - 7 visualization code\n",
        "plt.figure(figsize=(15, 15))\n",
        "plt.subplot(1, 2, 1)\n",
        "sns.countplot(data = Data, x = 'stays_in_week_nights',hue='hotel' ,palette='cool')\n",
        "plt.title(\"Number of stays on week nights\",fontweight=\"bold\", size=10)\n",
        "plt.grid()\n",
        "plt.subplot(1, 2, 2)\n",
        "sns.countplot(data = Data, x = 'stays_in_week_nights', hue='is_canceled', palette='rocket')\n",
        "plt.title('WeekStay vs Cancelation',fontweight=\"bold\", size=10)\n",
        "plt.grid()\n",
        "\n",
        "plt.show()\n"
      ],
      "metadata": {
        "id": "lqAIGUfyphqO"
      },
      "execution_count": null,
      "outputs": []
    },
    {
      "cell_type": "markdown",
      "source": [
        "Above graph shows the most of the people are stay at hotel for 2 night in week days and another graph shows the most of the booking canceled for room which is booked for 2 night stay and also see the most of the booking is not canceled for 1 night stay."
      ],
      "metadata": {
        "id": "22MeBAYM7K8J"
      }
    },
    {
      "cell_type": "markdown",
      "source": [
        "##### 1. Why did you pick the specific chart?"
      ],
      "metadata": {
        "id": "t27r6nlMphqO"
      }
    },
    {
      "cell_type": "markdown",
      "source": [
        "To check How long stay  guest at hotel on Weekdays\n",
        "\n",
        "\n",
        "\n"
      ],
      "metadata": {
        "id": "iv6ro40sphqO"
      }
    },
    {
      "cell_type": "markdown",
      "source": [
        "##### 2. What is/are the insight(s) found from the chart?"
      ],
      "metadata": {
        "id": "r2jJGEOYphqO"
      }
    },
    {
      "cell_type": "markdown",
      "source": [
        "we can see from graph that most people are staying at hotel for 2 nights in week days\n",
        "\n",
        "And second graph is showing that most cancellation is done for room which is booked for 2 night stay and we also see that most booking were not cancelled for 1 night stay"
      ],
      "metadata": {
        "id": "Po6ZPi4hphqO"
      }
    },
    {
      "cell_type": "markdown",
      "source": [
        "##### 3. Will the gained insights help creating a positive business impact? \n",
        "Are there any insights that lead to negative growth? Justify with specific reason."
      ],
      "metadata": {
        "id": "BZHOla1ykGvE"
      }
    },
    {
      "cell_type": "markdown",
      "source": [
        "Answer Here"
      ],
      "metadata": {
        "id": "3zTPyaLPlN_I"
      }
    },
    {
      "cell_type": "markdown",
      "source": [
        "#### Chart - 8"
      ],
      "metadata": {
        "id": "BZR9WyysphqO"
      }
    },
    {
      "cell_type": "markdown",
      "source": [
        "**How long stay  guest  at hotel on weekends?**"
      ],
      "metadata": {
        "id": "uaSgIXQs5EpU"
      }
    },
    {
      "cell_type": "code",
      "source": [
        "# Chart - 8 visualization code\n",
        "plt.figure(figsize=(15, 8))\n",
        "plt.subplot(1, 2, 1)\n",
        "sns.countplot(data = Data, x = 'stays_in_weekend_nights',hue='hotel' ,palette='cool')\n",
        "plt.title(\"Number of stays on weekend nights\",fontweight=\"bold\", size=20)\n",
        "plt.grid()\n",
        "plt.subplot(1, 2, 2)\n",
        "sns.countplot(data = Data, x = 'stays_in_weekend_nights', hue='is_canceled', palette='rocket')\n",
        "plt.title('WeekendStay vs Cancelation',fontweight=\"bold\", size=20)\n",
        "plt.grid()\n",
        "\n",
        "plt.show()\n",
        "\n"
      ],
      "metadata": {
        "id": "TdPTWpAVphqO"
      },
      "execution_count": null,
      "outputs": []
    },
    {
      "cell_type": "markdown",
      "source": [
        "As per graph shows the weekend more number of people stay 0,1 and 2 night for city hotel and more the 2 night they prefer to stay at resort hotel.\n",
        "Also shows the less number of cancellation of booking for weekends."
      ],
      "metadata": {
        "id": "nWOlc5IV8kBE"
      }
    },
    {
      "cell_type": "markdown",
      "source": [
        "##### 1. Why did you pick the specific chart?"
      ],
      "metadata": {
        "id": "jj7wYXLtphqO"
      }
    },
    {
      "cell_type": "markdown",
      "source": [
        "To check How long stay  guest  at hotel on weekends\n"
      ],
      "metadata": {
        "id": "Ob8u6rCTphqO"
      }
    },
    {
      "cell_type": "markdown",
      "source": [
        "##### 2. What is/are the insight(s) found from the chart?"
      ],
      "metadata": {
        "id": "eZrbJ2SmphqO"
      }
    },
    {
      "cell_type": "markdown",
      "source": [
        "More number of People prefer to stay at city hotel in weekend for 0,1 and 2 nights\n",
        "\n",
        "People staying for more than 2 night prefer to stay at Resort hotel\n",
        "\n",
        "Second graph shows  less number of cancellation of booking for weekends\n",
        "\n",
        "\n"
      ],
      "metadata": {
        "id": "mZtgC_hjphqO"
      }
    },
    {
      "cell_type": "markdown",
      "source": [
        "##### 3. Will the gained insights help creating a positive business impact? \n",
        "Are there any insights that lead to negative growth? Justify with specific reason."
      ],
      "metadata": {
        "id": "UgbB3QG4lFug"
      }
    },
    {
      "cell_type": "markdown",
      "source": [
        "Answer Here"
      ],
      "metadata": {
        "id": "5MjmBC7KlFiS"
      }
    },
    {
      "cell_type": "markdown",
      "source": [
        "#### Chart - 9"
      ],
      "metadata": {
        "id": "YJ55k-q6phqO"
      }
    },
    {
      "cell_type": "markdown",
      "source": [
        "**Which are most busiest month ?**"
      ],
      "metadata": {
        "id": "YggDlu6J-t-B"
      }
    },
    {
      "cell_type": "code",
      "source": [
        "# Chart - 9 visualization code\n",
        "plt.figure(figsize=(20,5))\n",
        "\n",
        "sns.countplot(data = hotel_df, x = 'arrival_date_month', hue = 'hotel', order = ['January', 'February', 'March', 'April', 'May', 'June', 'July',\n",
        "          'August', 'September', 'October', 'November', 'December']).set_title('Graph showing number of arrival per month',fontsize=20)\n"
      ],
      "metadata": {
        "id": "B2aS4O1ophqO"
      },
      "execution_count": null,
      "outputs": []
    },
    {
      "cell_type": "markdown",
      "source": [
        "This graph shows the july and august has most busiest month than other month."
      ],
      "metadata": {
        "id": "_Ot61QMX90Uc"
      }
    },
    {
      "cell_type": "markdown",
      "source": [
        "##### 1. Why did you pick the specific chart?"
      ],
      "metadata": {
        "id": "gCFgpxoyphqP"
      }
    },
    {
      "cell_type": "markdown",
      "source": [
        "To check the which month has most busiest month\n",
        "\n"
      ],
      "metadata": {
        "id": "TVxDimi2phqP"
      }
    },
    {
      "cell_type": "markdown",
      "source": [
        "##### 2. What is/are the insight(s) found from the chart?"
      ],
      "metadata": {
        "id": "OVtJsKN_phqQ"
      }
    },
    {
      "cell_type": "markdown",
      "source": [
        "Above graph shows that july and august month has most busy month\n"
      ],
      "metadata": {
        "id": "ngGi97qjphqQ"
      }
    },
    {
      "cell_type": "markdown",
      "source": [
        "##### 3. Will the gained insights help creating a positive business impact? \n",
        "Are there any insights that lead to negative growth? Justify with specific reason."
      ],
      "metadata": {
        "id": "j-N4HOOlkKmw"
      }
    },
    {
      "cell_type": "markdown",
      "source": [
        "Answer Here"
      ],
      "metadata": {
        "id": "EOPVzJe1lBSc"
      }
    },
    {
      "cell_type": "markdown",
      "source": [
        "#### Chart - 10"
      ],
      "metadata": {
        "id": "U2RJ9gkRphqQ"
      }
    },
    {
      "cell_type": "code",
      "source": [
        "#  heatmap for the entire dataset\n",
        "#  Finding the relation between the variables \n",
        "#  corr() is a dataframe method to find the correlation between variables \n",
        "corr_relation =Data.corr()\n",
        "corr_relation"
      ],
      "metadata": {
        "id": "lB24oE-XNRsH"
      },
      "execution_count": null,
      "outputs": []
    },
    {
      "cell_type": "code",
      "source": [
        "# Chart - 10 visualization code\n",
        "plt.figure(figsize=(20,10))\n",
        "sns.heatmap(corr_relation, cmap= \"coolwarm\" , annot=True) "
      ],
      "metadata": {
        "id": "GM7a4YP4phqQ"
      },
      "execution_count": null,
      "outputs": []
    },
    {
      "cell_type": "markdown",
      "source": [
        "##### 1. Why did you pick the specific chart?"
      ],
      "metadata": {
        "id": "1M8mcRywphqQ"
      }
    },
    {
      "cell_type": "markdown",
      "source": [
        "To Check the correlation of the heatmap.\n"
      ],
      "metadata": {
        "id": "8agQvks0phqQ"
      }
    },
    {
      "cell_type": "markdown",
      "source": [
        "##### 2. What is/are the insight(s) found from the chart?"
      ],
      "metadata": {
        "id": "tgIPom80phqQ"
      }
    },
    {
      "cell_type": "markdown",
      "source": [
        "Heat map for all columns to show relationship between columns variable.\n",
        "\n"
      ],
      "metadata": {
        "id": "Qp13pnNzphqQ"
      }
    },
    {
      "cell_type": "markdown",
      "source": [
        "##### 3. Will the gained insights help creating a positive business impact? \n",
        "Are there any insights that lead to negative growth? Justify with specific reason."
      ],
      "metadata": {
        "id": "cUtoQi9DkRfa"
      }
    },
    {
      "cell_type": "markdown",
      "source": [
        "Answer Here"
      ],
      "metadata": {
        "id": "OFzq_sEqlexI"
      }
    },
    {
      "cell_type": "markdown",
      "source": [
        "#### Chart - 11"
      ],
      "metadata": {
        "id": "x-EpHcCOp1ci"
      }
    },
    {
      "cell_type": "markdown",
      "source": [
        "##### 1. Why did you pick the specific chart?"
      ],
      "metadata": {
        "id": "X_VqEhTip1ck"
      }
    },
    {
      "cell_type": "markdown",
      "source": [
        "Answer Here"
      ],
      "metadata": {
        "id": "-vsMzt_np1ck"
      }
    },
    {
      "cell_type": "markdown",
      "source": [
        "##### 2. What is/are the insight(s) found from the chart?"
      ],
      "metadata": {
        "id": "8zGJKyg5p1ck"
      }
    },
    {
      "cell_type": "markdown",
      "source": [
        "Answer Here"
      ],
      "metadata": {
        "id": "ZYdMsrqVp1ck"
      }
    },
    {
      "cell_type": "markdown",
      "source": [
        "##### 3. Will the gained insights help creating a positive business impact? \n",
        "Are there any insights that lead to negative growth? Justify with specific reason."
      ],
      "metadata": {
        "id": "_HD4j-GFkW7P"
      }
    },
    {
      "cell_type": "markdown",
      "source": [
        "Answer Here"
      ],
      "metadata": {
        "id": "QXAOtE42liNh"
      }
    },
    {
      "cell_type": "markdown",
      "source": [
        "#### Chart - 12"
      ],
      "metadata": {
        "id": "n3dbpmDWp1ck"
      }
    },
    {
      "cell_type": "code",
      "source": [
        "# Chart - 12 visualization code\n"
      ],
      "metadata": {
        "id": "bwevp1tKp1ck"
      },
      "execution_count": null,
      "outputs": []
    },
    {
      "cell_type": "markdown",
      "source": [
        "##### 1. Why did you pick the specific chart?"
      ],
      "metadata": {
        "id": "ylSl6qgtp1ck"
      }
    },
    {
      "cell_type": "markdown",
      "source": [
        "Answer Here\n"
      ],
      "metadata": {
        "id": "m2xqNkiQp1ck"
      }
    },
    {
      "cell_type": "markdown",
      "source": [
        "##### 2. What is/are the insight(s) found from the chart?"
      ],
      "metadata": {
        "id": "ZWILFDl5p1ck"
      }
    },
    {
      "cell_type": "markdown",
      "source": [
        "Answer Here"
      ],
      "metadata": {
        "id": "x-lUsV2mp1ck"
      }
    },
    {
      "cell_type": "markdown",
      "source": [
        "##### 3. Will the gained insights help creating a positive business impact? \n",
        "Are there any insights that lead to negative growth? Justify with specific reason."
      ],
      "metadata": {
        "id": "Tbu9pYAckaid"
      }
    },
    {
      "cell_type": "markdown",
      "source": [
        "Answer Here"
      ],
      "metadata": {
        "id": "zmtdz-3xlq7v"
      }
    },
    {
      "cell_type": "markdown",
      "source": [
        "## **5. Solution to Business Objective**"
      ],
      "metadata": {
        "id": "JcMwzZxoAimU"
      }
    },
    {
      "cell_type": "markdown",
      "source": [
        "#### What do you suggest the client to achieve Business Objective ? \n",
        "Explain Briefly."
      ],
      "metadata": {
        "id": "8G2x9gOozGDZ"
      }
    },
    {
      "cell_type": "markdown",
      "source": [
        "The primary objective of online hotel reservation systems is to provide customers with a convenient and efficient way to book their accommodations.\n",
        "Post-booking communication.\n",
        "Offer freebies and complimentary services.\n",
        "Implement in-room technology.\n",
        "Be proactive in your service.\n",
        "Reward repeat guests.\n",
        "Offer multiple communication channels.\n",
        "Create an inclusive experience for all.\n",
        "\n",
        "This includes providing an easy-to-use interface, secure payment processing, and access to up-to-date information about available rooms.\n",
        "\n",
        "Additionally, these systems should be able to quickly process reservations so that customers can get the room they need in a timely manner.\n",
        "\n",
        "Overall, it appears that these objectives are being met by most online hotel reservation systems today.\n",
        "\n",
        "Customers have access to detailed information about each property before making their booking decision and can easily complete the transaction without any issues or delays.\n",
        "\n",
        "Furthermore, many hotels now offer loyalty programs which reward frequent guests for using their services – another indication that these objectives are being achieved successfully!"
      ],
      "metadata": {
        "id": "pASKb0qOza21"
      }
    },
    {
      "cell_type": "markdown",
      "source": [
        "# **Conclusion**"
      ],
      "metadata": {
        "id": "gCX9965dhzqZ"
      }
    },
    {
      "cell_type": "markdown",
      "source": [
        "(1) City Hotel and  Resort Hotel having count 79000 and 40000 approx respectively\n",
        "\n",
        "(2)Most people are staying at hotel for 2 nights in week days and most cancellation is done for room which is booked for 2 night stay and we also see that most booking were not cancelled for 1 night stay\n",
        "\n",
        "(3) More number of People prefer to stay at city hotel in weekend for 0,1 and 2 nights and people prefer to stay  more than 2 night for Resort hotel\n",
        "\n",
        "(4) Most of the guests came from european countries, with most of guests coming from Portugal.\n",
        "\n",
        "(5) we can see from  graph  most the bookings are done through Online TA segment.\n",
        "\n",
        "Most cancelation is also done through online TA segment only.\n",
        "\n",
        "(6) It has been clearly seen  City Hotel have highest bookings. It is preferred by most of the customers. We can also say that City Hotel have been liked by most of the customers.\n",
        "\n",
        "(7) we can see that city hotel has more number of cancellation compared to Resort hotel\n",
        "\n",
        "(8) July- August are the most busier and profitable months for both of hotels.\n",
        "\n",
        "(9) We Can Notice that most preferred meal type is BB (Bed and breakfast) for meal customers.\n",
        "\n",
        "\n"
      ],
      "metadata": {
        "id": "Fjb1IsQkh3yE"
      }
    },
    {
      "cell_type": "markdown",
      "source": [
        "### ***Hurrah! You have successfully completed your EDA Capstone Project !!!***"
      ],
      "metadata": {
        "id": "gIfDvo9L0UH2"
      }
    }
  ]
}